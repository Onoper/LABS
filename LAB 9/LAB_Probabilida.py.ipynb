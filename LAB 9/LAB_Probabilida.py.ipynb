{
 "cells": [
  {
   "cell_type": "markdown",
   "metadata": {},
   "source": [
    "# Probability"
   ]
  },
  {
   "cell_type": "markdown",
   "metadata": {},
   "source": [
    "## Reto 1\n",
    "Hay una caja con 10 bolas blancas, 12 bolas rojas y 8 bolas negras. Calcula la probabilidad de:\n",
    "* Sacar una bola blanca.\n",
    "* Sacar una bola blanca en la primera extracción y una bola negra en la segunda extracción sin reemplazar la primera.\n",
    "* Sacar una bola blanca en la primera extracción y una bola negra en la segunda extracción reemplazando la primera.\n",
    "* Sacar 3 bolas y que sean todas de diferentes colores."
   ]
  },
  {
   "cell_type": "code",
   "execution_count": 10,
   "metadata": {},
   "outputs": [
    {
     "name": "stdout",
     "output_type": "stream",
     "text": [
      " las probabilidades de sacar una bola blanca son : 0.33\n",
      " las probabilidades de sacar una bola blanca y luego sacar una bola negra son : 0.09195402298850575\n",
      " las probabilidades de sacar una bola blanca, restituirla, y luego sacar una bola negra son : 0.08888888888888888\n",
      " las probabilidades de sacar una bola de cada color : 0.23645320197044334\n"
     ]
    }
   ],
   "source": [
    "bola_blanca=10\n",
    "bola_roja=12\n",
    "bola_negra=8\n",
    "total=30\n",
    "\n",
    "print(f\" las probabilidades de sacar una bola blanca son : {bola_blanca/total:.2f}\")\n",
    "print(f\" las probabilidades de sacar una bola blanca y luego sacar una bola negra son : {(bola_blanca/total)*(bola_negra/(total-1))}\")\n",
    "print(f\" las probabilidades de sacar una bola blanca, restituirla, y luego sacar una bola negra son : {(bola_blanca/total)*(bola_negra/(total))}\")\n",
    "print(f\" las probabilidades de sacar una bola de cada color : {((bola_blanca/total)*(bola_negra/(total-1))*(bola_roja/(total-2)))*6}\")  \n",
    "#multiplicamos por 6 permutaciones possibles\n",
    "\n"
   ]
  },
  {
   "cell_type": "markdown",
   "metadata": {},
   "source": [
    "## Reto 2\n",
    "\n",
    "Quieres ir de picnic el sábado. Odias la lluvia y quieres planificar tu fin de semana. Para ayudarte a tomar una decisión, recopilas los siguientes datos sobre los días lluviosos:\n",
    "\n",
    "* El 40% de todos los días están nublados.\n",
    "* Aproximadamente el 50% de los días nublados son lluviosos.\n",
    "* Aproximadamente el 20% de los días no nublados son lluviosos.\n",
    "\n",
    "¿Cuál es la probabilidad de que llueva el próximo sábado?"
   ]
  },
  {
   "cell_type": "code",
   "execution_count": 11,
   "metadata": {},
   "outputs": [
    {
     "name": "stdout",
     "output_type": "stream",
     "text": [
      "La probabilidad de que llueva el próximo sábado es: 0.32\n"
     ]
    }
   ],
   "source": [
    "cloudy_days=0.4\n",
    "rain_in_cloud_days=0.5\n",
    "rain_in_clear_days=0.2\n",
    "\n",
    "# Calcular P(Nc)\n",
    "Clear_days = 1 - cloudy_days\n",
    "\n",
    "# Calcular P(R) usando la regla de la probabilidad total\n",
    "P_R = (rain_in_cloud_days * cloudy_days) + (rain_in_clear_days * Clear_days)\n",
    "\n",
    "print(f\"La probabilidad de que llueva el próximo sábado es: {P_R:.2f}\")"
   ]
  },
  {
   "cell_type": "markdown",
   "metadata": {},
   "source": [
    "## Reto 3\n",
    "\n",
    "A y B son eventos de una probabilidad tal que \\(P(A) = 0.3\\), \\(P(B) = 0.6\\) y \\(P(A \\cap B) = 0.1\\)\n",
    "\n",
    "¿Cuáles de las siguientes afirmaciones son verdaderas?\n",
    "**SUGERENCIA: dibuja un gran diagrama de Venn a tu lado**\n",
    "* \\(P(\\overline{A}) = 0.7\\)\n",
    "* \\(P(A \\cup B) = 0.6\\)\n",
    "* \\(P(A \\cap \\overline{B}) = 0.2\\)\n",
    "* \\(P(A \\cup \\overline{A}) = 1\\)  \n",
    "* \\(P(A \\cap (B \\cup \\overline{B})) = 0.4\\)\n",
    "* \\(P(\\overline{A} \\cap \\overline{B}) = 0.3\\)\n",
    "* \\(P(\\overline{A \\cap B}) = 0.9\\)"
   ]
  },
  {
   "cell_type": "code",
   "execution_count": 30,
   "metadata": {},
   "outputs": [
    {
     "name": "stdout",
     "output_type": "stream",
     "text": [
      "El complementario de A es igual a 0.7: 0.7. TRUE\n",
      "La union de A y B es igual a 0.6: 0.80. FALSE\n",
      "La interseccion de A con el complementario de B es 0.2: 0.20. TRUE\n",
      "La unión de A con el complementario de A es 1: 1.00. TRUE\n",
      "La interesección de A con (B + su complementario) es 0.4: 0.40. TRUE\n",
      "La intersección del complementario de A con el complementario de B es 0.3: 0.20. FALSE\n",
      "El complementario de la interesección de A y B es 0.9: 0.90. TRUE\n"
     ]
    }
   ],
   "source": [
    "A = 0.3\n",
    "Comp_A = 0.7\n",
    "B = 0.6\n",
    "Comp_B = 0.4\n",
    "A_inter_B = 0.1\n",
    "\n",
    "# \\(P(\\overline{A}) = 0.7\\) La probabilidad que A no ocurra equivale a 1-A, que es 0.7. VERDADERA\n",
    "# \\(P(A \\cup B) = 0.6\\) La probabilidad que A y B ocurran es de 0.3, no 0.6. FALSO\n",
    "# \\(P(A \\cap \\overline{B}) = 0.2\\)\n",
    "# \\(P(A \\cup \\overline{A}) = 1\\)  \n",
    "# \\(P(A \\cap (B \\cup \\overline{B})) = 0.4\\)\n",
    "# \\(P(\\overline{A} \\cap \\overline{B}) = 0.3\\)\n",
    "# \\(P(\\overline{A \\cap B}) = 0.9\\)\n",
    "\n",
    "print(f\"El complementario de A es igual a 0.7: {Comp_A}. TRUE\")\n",
    "print(f\"La union de A y B es igual a 0.6: {(A+B)-(A_inter_B):.2f}. FALSE\")\n",
    "print(f\"La interseccion de A con el complementario de B es 0.2: {A-A_inter_B:.2f}. TRUE\")\n",
    "print(f\"La unión de A con el complementario de A es 1: {A+Comp_A:.2f}. TRUE\")\n",
    "print(f\"La interesección de A con (B + su complementario) es 0.4: {A+A_inter_B:.2f}. TRUE\")\n",
    "print(f\"La intersección del complementario de A con el complementario de B es 0.3: {1-(A+B-A_inter_B):.2f}. FALSE\")\n",
    "print(f\"El complementario de la interesección de A y B es 0.9: {1-(A_inter_B):.2f}. TRUE\")\n"
   ]
  },
  {
   "cell_type": "markdown",
   "metadata": {},
   "source": [
    "## Reto 4\n",
    "\n",
    "* Si alguien viaja a China, la probabilidad de contraer Covid es del 1%\n",
    "* Si alguien viaja a Italia, la probabilidad de contraer Covid es del 20%\n",
    "\n",
    "Lanzo un dado con números 1, 2, 3, 4, 5, 6:\n",
    "* Si sale 1: Vuelo a Italia\n",
    "* Si no sale 1: Vuelo a China\n",
    "\n",
    "Durante mi viaje, contraje Covid. ¿Cuál es la probabilidad de que haya volado a China?"
   ]
  },
  {
   "cell_type": "code",
   "execution_count": 33,
   "metadata": {},
   "outputs": [
    {
     "name": "stdout",
     "output_type": "stream",
     "text": [
      " La probabilidad de haber viajado a china es de 0.2\n"
     ]
    }
   ],
   "source": [
    "china = 0.01\n",
    "italy = 0.2\n",
    "italy_fly = 1/6\n",
    "china_fly = 5/6\n",
    "\n",
    "prob_covid=((china*china_fly)+(italy*italy_fly))\n",
    "\n",
    "prob_china=(china*china_fly)\n",
    "\n",
    "print(f\" La probabilidad de haber viajado a china es de {prob_china/prob_covid}\")\n",
    "\n"
   ]
  },
  {
   "cell_type": "markdown",
   "metadata": {},
   "source": [
    "## BONUS\n",
    "\n",
    "Lanzas 2 dados. ¿Cuál es la probabilidad de que la suma de los números sea 7? ¿Y 8? ¿Y 9? Luego simula 10000 veces y dibuja un gráfico de conteo.\n",
    "\n",
    "tu explicación aquí"
   ]
  },
  {
   "cell_type": "code",
   "execution_count": null,
   "metadata": {},
   "outputs": [],
   "source": [
    "# YOUR CODE HERE"
   ]
  }
 ],
 "metadata": {
  "kernelspec": {
   "display_name": "Python 3 (ipykernel)",
   "language": "python",
   "name": "python3"
  },
  "language_info": {
   "codemirror_mode": {
    "name": "ipython",
    "version": 3
   },
   "file_extension": ".py",
   "mimetype": "text/x-python",
   "name": "python",
   "nbconvert_exporter": "python",
   "pygments_lexer": "ipython3",
   "version": "3.12.4"
  },
  "toc": {
   "base_numbering": 1,
   "nav_menu": {},
   "number_sections": false,
   "sideBar": true,
   "skip_h1_title": false,
   "title_cell": "Table of Contents",
   "title_sidebar": "Contents",
   "toc_cell": false,
   "toc_position": {
    "height": "calc(100% - 180px)",
    "left": "10px",
    "top": "150px",
    "width": "296.475px"
   },
   "toc_section_display": true,
   "toc_window_display": false
  },
  "varInspector": {
   "cols": {
    "lenName": 16,
    "lenType": 16,
    "lenVar": 40
   },
   "kernels_config": {
    "python": {
     "delete_cmd_postfix": "",
     "delete_cmd_prefix": "del ",
     "library": "var_list.py",
     "varRefreshCmd": "print(var_dic_list())"
    },
    "r": {
     "delete_cmd_postfix": ") ",
     "delete_cmd_prefix": "rm(",
     "library": "var_list.r",
     "varRefreshCmd": "cat(var_dic_list()) "
    }
   },
   "types_to_exclude": [
    "module",
    "function",
    "builtin_function_or_method",
    "instance",
    "_Feature"
   ],
   "window_display": false
  }
 },
 "nbformat": 4,
 "nbformat_minor": 2
}
