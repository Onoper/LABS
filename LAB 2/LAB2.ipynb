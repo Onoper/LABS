{
 "cells": [
  {
   "cell_type": "markdown",
   "metadata": {},
   "source": [
    "## Desafío 1: Tuplas\n",
    "\n",
    "#### ¿Sabías que puedes crear tuplas con solo un elemento?\n",
    "\n",
    "**En la celda de abajo, define una variable `tup` con un único elemento `\"I\"`.**"
   ]
  },
  {
   "cell_type": "code",
   "execution_count": 1,
   "metadata": {},
   "outputs": [],
   "source": [
    "tup = tuple(\"I\")"
   ]
  },
  {
   "cell_type": "markdown",
   "metadata": {},
   "source": [
    "#### Imprime el tipo de `tup`.\n",
    "\n",
    "Asegúrate de que su tipo sea correcto (es decir, *tuple* en lugar de *str*)."
   ]
  },
  {
   "cell_type": "code",
   "execution_count": 2,
   "metadata": {},
   "outputs": [
    {
     "name": "stdout",
     "output_type": "stream",
     "text": [
      "<class 'tuple'>\n"
     ]
    }
   ],
   "source": [
    "print (type(tup))"
   ]
  },
  {
   "cell_type": "markdown",
   "metadata": {},
   "source": [
    "#### Ahora intenta agregar los siguientes elementos a `tup`.\n",
    "\n",
    "¿Puedes hacerlo? Explica.\n",
    "\n",
    "```\n",
    "\"r\", \"o\", \"n\", \"h\", \"a\", \"c\", \"k',\n",
    "```"
   ]
  },
  {
   "cell_type": "code",
   "execution_count": 3,
   "metadata": {
    "scrolled": true
   },
   "outputs": [
    {
     "ename": "AttributeError",
     "evalue": "'tuple' object has no attribute 'extend'",
     "output_type": "error",
     "traceback": [
      "\u001b[1;31m---------------------------------------------------------------------------\u001b[0m",
      "\u001b[1;31mAttributeError\u001b[0m                            Traceback (most recent call last)",
      "Cell \u001b[1;32mIn[3], line 4\u001b[0m\n\u001b[0;32m      1\u001b[0m tup \u001b[38;5;241m=\u001b[39m \u001b[38;5;28mtuple\u001b[39m(\u001b[38;5;124m\"\u001b[39m\u001b[38;5;124mI\u001b[39m\u001b[38;5;124m\"\u001b[39m)\n\u001b[0;32m      2\u001b[0m newvalues \u001b[38;5;241m=\u001b[39m (\u001b[38;5;124m\"\u001b[39m\u001b[38;5;124mr\u001b[39m\u001b[38;5;124m\"\u001b[39m,\u001b[38;5;124m\"\u001b[39m\u001b[38;5;124mo\u001b[39m\u001b[38;5;124m\"\u001b[39m,\u001b[38;5;124m\"\u001b[39m\u001b[38;5;124mn\u001b[39m\u001b[38;5;124m\"\u001b[39m,\u001b[38;5;124m\"\u001b[39m\u001b[38;5;124mh\u001b[39m\u001b[38;5;124m\"\u001b[39m,\u001b[38;5;124m\"\u001b[39m\u001b[38;5;124ma\u001b[39m\u001b[38;5;124m\"\u001b[39m,\u001b[38;5;124m\"\u001b[39m\u001b[38;5;124mc\u001b[39m\u001b[38;5;124m\"\u001b[39m,\u001b[38;5;124m\"\u001b[39m\u001b[38;5;124mk\u001b[39m\u001b[38;5;124m\"\u001b[39m)\n\u001b[1;32m----> 4\u001b[0m \u001b[43mtup\u001b[49m\u001b[38;5;241;43m.\u001b[39;49m\u001b[43mextend\u001b[49m(newvalues)\n\u001b[0;32m      6\u001b[0m \u001b[38;5;66;03m#una tupla es inmutable y no tiene los atributos para expandir, eliminar, modificar o añadir elementos\u001b[39;00m\n",
      "\u001b[1;31mAttributeError\u001b[0m: 'tuple' object has no attribute 'extend'"
     ]
    }
   ],
   "source": [
    "tup = tuple(\"I\")\n",
    "newvalues = (\"r\",\"o\",\"n\",\"h\",\"a\",\"c\",\"k\")\n",
    "\n",
    "tup.extend(newvalues)\n",
    "\n",
    "#una tupla es inmutable y no tiene los atributos para expandir, eliminar, modificar o añadir elementos"
   ]
  },
  {
   "cell_type": "code",
   "execution_count": 4,
   "metadata": {},
   "outputs": [
    {
     "name": "stdout",
     "output_type": "stream",
     "text": [
      "['r', 'o', 'n', 'h', 'a', 'c', 'k']\n"
     ]
    }
   ],
   "source": [
    "tup = [\"I\"]\n",
    "newvalues = [\"r\",\"o\",\"n\",\"h\",\"a\",\"c\",\"k\"]\n",
    "\n",
    "tup = newvalues\n",
    "\n",
    "print (tup)"
   ]
  },
  {
   "cell_type": "markdown",
   "metadata": {},
   "source": [
    "#### ¿Qué tal si reasignas un nuevo valor a una tupla existente?\n",
    "\n",
    "Reasigna los siguientes elementos a `tup`. ¿Puedes hacerlo? Explica.\n",
    "\n",
    "```\n",
    "\"I\", \"r\", \"o\", \"n\", \"h\", \"a\", \"c\", \"k\"\n",
    "```"
   ]
  },
  {
   "cell_type": "code",
   "execution_count": 5,
   "metadata": {},
   "outputs": [
    {
     "name": "stdout",
     "output_type": "stream",
     "text": [
      "('r', 'o', 'n', 'h', 'a', 'c', 'k')\n"
     ]
    }
   ],
   "source": [
    "tup = tuple(\"I\")\n",
    "newvalues = (\"r\",\"o\",\"n\",\"h\",\"a\",\"c\",\"k\")\n",
    "\n",
    "tup = newvalues\n",
    "\n",
    "print (tup)\n",
    "\n",
    "# no se pueden alterar los valores de una tupla, pero si se puede redifinir de nuevo."
   ]
  },
  {
   "cell_type": "markdown",
   "metadata": {},
   "source": [
    "#### Divide `tup` en `tup1` y `tup2` con 4 elementos en cada una.\n",
    "\n",
    "`tup1` debe ser `(\"I\", \"r\", \"o\", \"n\")` y `tup2` debe ser `(\"h\", \"a\", \"c\", \"k\")`.\n",
    "\n",
    "*Sugerencia: usa números de índice positivos para la asignación de `tup1` y números de índice negativos para la asignación de `tup2`. Los números de índice positivos cuentan desde el principio, mientras que los números de índice negativos cuentan desde el final de la secuencia.*\n",
    "\n",
    "También imprime `tup1` y `tup2`."
   ]
  },
  {
   "cell_type": "code",
   "execution_count": 6,
   "metadata": {},
   "outputs": [
    {
     "name": "stdout",
     "output_type": "stream",
     "text": [
      " tupla original: ('I', 'r', 'o', 'n', 'h', 'a', 'c', 'k'), tupla 1: ('I', 'r', 'o', 'n'), tupla 2: ('h', 'a', 'c', 'k')\n"
     ]
    }
   ],
   "source": [
    "tup = (\"I\",\"r\",\"o\",\"n\",\"h\",\"a\",\"c\",\"k\")\n",
    "tup1 = tup[:4]\n",
    "tup2 = tup[-4:] #tricky, con -1 no funciona porque el indice -1 se excluye\n",
    "\n",
    "print (f\" tupla original: {tup}, tupla 1: {tup1}, tupla 2: {tup2}\")"
   ]
  },
  {
   "cell_type": "markdown",
   "metadata": {},
   "source": [
    "#### Suma `tup1` y `tup2` en `tup3` usando el operador `+`.\n",
    "\n",
    "Luego imprime `tup3` y verifica si `tup3` es igual a `tup`."
   ]
  },
  {
   "cell_type": "code",
   "execution_count": 7,
   "metadata": {},
   "outputs": [
    {
     "name": "stdout",
     "output_type": "stream",
     "text": [
      " tupla original: ('I', 'r', 'o', 'n', 'h', 'a', 'c', 'k'), \n",
      " tupla 1: ('I', 'r', 'o', 'n'), \n",
      " tupla 2: ('h', 'a', 'c', 'k'), \n",
      " tupla 3: ('I', 'r', 'o', 'n', 'h', 'a', 'c', 'k'), \n",
      " validación: True \n"
     ]
    }
   ],
   "source": [
    "tup = (\"I\",\"r\",\"o\",\"n\",\"h\",\"a\",\"c\",\"k\")\n",
    "tup1 = tup[:4]\n",
    "tup2 = tup[-4:] #tricky, con -1 no funciona porque el indice -1 se excluye\n",
    "tup3 = tup1+tup2\n",
    "validation = (tup == tup3)\n",
    "\n",
    "print (f\" tupla original: {tup}, \\n tupla 1: {tup1}, \\n tupla 2: {tup2}, \\n tupla 3: {tup3}, \\n validación: {validation} \")"
   ]
  },
  {
   "cell_type": "markdown",
   "metadata": {},
   "source": [
    "#### Cuenta el número de elementos en `tup1` y `tup2`. Luego suma los dos conteos y verifica si la suma es igual al número de elementos en `tup3`."
   ]
  },
  {
   "cell_type": "code",
   "execution_count": 8,
   "metadata": {},
   "outputs": [
    {
     "name": "stdout",
     "output_type": "stream",
     "text": [
      " tupla original: 8, \n",
      " tupla 1: 4, \n",
      " tupla 2: 4, \n",
      " tupla 3: 8, \n",
      " validación: True \n"
     ]
    }
   ],
   "source": [
    "tup = (\"I\",\"r\",\"o\",\"n\",\"h\",\"a\",\"c\",\"k\")\n",
    "tup1 = tup[:4]\n",
    "tup2 = tup[-4:] #tricky, con -1 no funciona porque el indice -1 se excluye\n",
    "tup3 = tup1+tup2\n",
    "validation = (len(tup) == len(tup3))\n",
    "\n",
    "print (f\" tupla original: {len(tup)}, \\n tupla 1: {len(tup1)}, \\n tupla 2: {len(tup2)}, \\n tupla 3: {len(tup3)}, \\n validación: {validation} \")"
   ]
  },
  {
   "cell_type": "markdown",
   "metadata": {},
   "source": [
    "#### ¿Cuál es el número de índice de `\"h\"` en `tup3`?"
   ]
  },
  {
   "cell_type": "code",
   "execution_count": 9,
   "metadata": {},
   "outputs": [
    {
     "name": "stdout",
     "output_type": "stream",
     "text": [
      "el indice de 'h' en tup3 es: 4 \n"
     ]
    }
   ],
   "source": [
    "tup = (\"I\",\"r\",\"o\",\"n\",\"h\",\"a\",\"c\",\"k\")\n",
    "tup1 = tup[:4]\n",
    "tup2 = tup[-4:] #tricky, con -1 no funciona porque el indice -1 se excluye\n",
    "tup3 = tup1+tup2\n",
    "index= tup3.index('h')  #creamos variable para almacenar el indice\n",
    "\n",
    "\n",
    "print (f\"el indice de 'h' en tup3 es: {index} \")"
   ]
  },
  {
   "cell_type": "markdown",
   "metadata": {},
   "source": [
    "#### Ahora, usa un bucle FOR para verificar si cada letra en la siguiente lista está presente en `tup3`:\n",
    "\n",
    "\n",
    "```\n",
    "letters = [\"a\", \"b\", \"c\", \"d\", \"e\"]\n",
    "```\n",
    "\n",
    "\n",
    "Para cada letra que verifiques, imprime `True` si está presente en `tup3`, de lo contrario imprime `False`.\n",
    "\n",
    "*Sugerencia: solo necesitas hacer un bucle con `letters`. No necesitas hacer un bucle con `tup3` porque hay un operador de Python `in` que puedes usar. Consulta la [referencia](https://stackoverflow.com/questions/17920147/how-to-check-if-a-tuple-contains-an-element-in-python).*"
   ]
  },
  {
   "cell_type": "code",
   "execution_count": 10,
   "metadata": {},
   "outputs": [
    {
     "name": "stdout",
     "output_type": "stream",
     "text": [
      "True\n",
      "False\n",
      "True\n",
      "False\n",
      "False\n"
     ]
    }
   ],
   "source": [
    "tup = (\"I\",\"r\",\"o\",\"n\",\"h\",\"a\",\"c\",\"k\")\n",
    "tup1 = tup[:4]\n",
    "tup2 = tup[-4:] #tricky, con -1 no funciona porque el indice -1 se excluye\n",
    "tup3 = tup1+tup2\n",
    "letters = [\"a\", \"b\", \"c\", \"d\", \"e\"] #definimos lista de letters\n",
    "\n",
    "for x in letters: #iteramos por cada letra en la lista\n",
    "    if x in tup3: #comprobamos que la letra este en la tupla e imprimimos si es cierto\n",
    "        print(True) \n",
    "    else:          #si no esta, imprimimos false\n",
    "        print(False)\n"
   ]
  },
  {
   "cell_type": "code",
   "execution_count": 11,
   "metadata": {},
   "outputs": [
    {
     "name": "stdout",
     "output_type": "stream",
     "text": [
      "True\n",
      "False\n",
      "True\n",
      "False\n",
      "False\n"
     ]
    }
   ],
   "source": [
    "tup = (\"I\",\"r\",\"o\",\"n\",\"h\",\"a\",\"c\",\"k\")\n",
    "tup1 = tup[:4]\n",
    "tup2 = tup[-4:] #tricky, con -1 no funciona porque el indice -1 se excluye\n",
    "tup3 = tup1+tup2\n",
    "letters = [\"a\", \"b\", \"c\", \"d\", \"e\"] #definimos lista de letters\n",
    "\n",
    "for x in letters: #iteramos por cada letra en la lista\n",
    "    if x in tup3: #comprobamos que la letra este en la tupla e imprimimos si es cierto\n",
    "        print(True) \n",
    "    else:          #si no esta, imprimimos false\n",
    "        print(False)"
   ]
  },
  {
   "cell_type": "markdown",
   "metadata": {},
   "source": [
    "#### ¿Cuántas veces aparece cada letra de `letters` en `tup3`?\n",
    "\n",
    "Imprime el número de ocurrencias de cada letra."
   ]
  },
  {
   "cell_type": "code",
   "execution_count": 12,
   "metadata": {},
   "outputs": [
    {
     "name": "stdout",
     "output_type": "stream",
     "text": [
      "{'a': 1, 'b': 0, 'c': 1, 'd': 0, 'e': 0}\n"
     ]
    }
   ],
   "source": [
    "tup = (\"I\",\"r\",\"o\",\"n\",\"h\",\"a\",\"c\",\"k\")\n",
    "tup1 = tup[:4]\n",
    "tup2 = tup[-4:] #tricky, con -1 no funciona porque el indice -1 se excluye\n",
    "tup3 = tup1+tup2\n",
    "letters = [\"a\", \"b\", \"c\", \"d\", \"e\"] #definimos lista de letters\n",
    "counts= {\"a\":0, \"b\":0, \"c\":0, \"d\":0, \"e\":0}\n",
    "\n",
    "for x in tup3: #iteramos por cada letra en la tupla (si lo hacemos al reves, no podemos contar mas de una vez cada letra)\n",
    "    if x in letters: #comprobamos que esta en el listado\n",
    "        counts[x]+=1 #si esta, sumamos 1 al valor asociado de la key\n",
    "\n",
    "\n",
    "print (counts)"
   ]
  },
  {
   "cell_type": "markdown",
   "metadata": {},
   "source": [
    "## Desafío 2: Conjuntos\n",
    "\n",
    "Hay mucho que aprender sobre los Conjuntos en Python y la información presentada en la lección es limitada debido a su longitud. Para aprender a fondo sobre los Conjuntos en Python, te recomendamos encarecidamente que revises el tutorial de W3Schools sobre [Ejemplos y Métodos de Conjuntos en Python](https://www.w3schools.com/python/python_sets.asp) antes de trabajar en este laboratorio. Algunas preguntas difíciles de este laboratorio tienen sus soluciones en el tutorial de W3Schools.\n",
    "\n",
    "#### Primero, importa la biblioteca `random` de Python."
   ]
  },
  {
   "cell_type": "code",
   "execution_count": 13,
   "metadata": {},
   "outputs": [],
   "source": [
    "import random"
   ]
  },
  {
   "cell_type": "markdown",
   "metadata": {},
   "source": [
    "#### En la celda de abajo, crea una lista llamada `sample_list_1` con 80 valores aleatorios.\n",
    "\n",
    "Requisitos:\n",
    "\n",
    "* Cada valor es un entero entre 0 y 100.\n",
    "* Cada valor en la lista es único.\n",
    "\n",
    "Imprime `sample_list_1` para revisar sus valores.\n",
    "\n",
    "*Sugerencia: usa `random.sample` ([referencia](https://docs.python.org/3/library/random.html#random.sample)).*"
   ]
  },
  {
   "cell_type": "code",
   "execution_count": 14,
   "metadata": {},
   "outputs": [
    {
     "name": "stdout",
     "output_type": "stream",
     "text": [
      "[59, 30, 88, 66, 78, 86, 87, 53, 9, 10, 17, 46, 2, 92, 69, 40, 0, 48, 43, 32, 72, 33, 85, 13, 73, 71, 75, 14, 56, 12, 3, 1, 19, 94, 95, 80, 7, 68, 60, 29, 28, 24, 26, 74, 6, 18, 83, 5, 64, 27, 23, 44, 25, 8, 16, 99, 39, 63, 15, 52, 49, 31, 11, 76, 82, 61, 93, 62, 37, 45, 55, 21, 34, 57, 79, 20, 91, 89, 84, 54]\n"
     ]
    }
   ],
   "source": [
    "sample_list_1=random.sample(range(100), k=80)\n",
    "\n",
    "print (sample_list_1)"
   ]
  },
  {
   "cell_type": "markdown",
   "metadata": {},
   "source": [
    "#### Convierte `sample_list_1` en un conjunto llamado `set1`. Imprime la longitud del conjunto. ¿Su longitud sigue siendo 80?"
   ]
  },
  {
   "cell_type": "code",
   "execution_count": 15,
   "metadata": {},
   "outputs": [
    {
     "name": "stdout",
     "output_type": "stream",
     "text": [
      "80 {0, 2, 3, 4, 5, 6, 8, 9, 10, 11, 14, 15, 17, 19, 21, 22, 24, 25, 26, 27, 28, 29, 30, 31, 32, 33, 34, 35, 36, 37, 39, 40, 41, 42, 43, 45, 46, 47, 48, 49, 50, 51, 52, 53, 55, 57, 61, 62, 64, 65, 66, 67, 68, 69, 70, 71, 72, 74, 75, 77, 78, 80, 81, 82, 83, 84, 85, 86, 87, 88, 89, 90, 92, 93, 94, 95, 96, 97, 98, 99}\n"
     ]
    }
   ],
   "source": [
    "sample_list_1=random.sample(range(100), k=80)\n",
    "set1 = set(sample_list_1)\n",
    "\n",
    "print (len(set1), set1)\n",
    "\n",
    "#si, sigue conteniendo 80 valores"
   ]
  },
  {
   "cell_type": "markdown",
   "metadata": {},
   "source": [
    "#### Crea otra lista llamada `sample_list_2` con 80 valores aleatorios.\n",
    "\n",
    "Requisitos:\n",
    "\n",
    "* Cada valor es un entero entre 0 y 100.\n",
    "* Los valores en la lista no tienen que ser únicos.\n",
    "\n",
    "*Sugerencia: Usa un bucle FOR.*"
   ]
  },
  {
   "cell_type": "code",
   "execution_count": 16,
   "metadata": {},
   "outputs": [
    {
     "name": "stdout",
     "output_type": "stream",
     "text": [
      "[62, 42, 62, 21, 73, 46, 26, 54, 65, 78, 5, 28, 35, 9, 89, 10, 14, 77, 30, 53, 80, 52, 95, 35, 78, 55, 37, 93, 28, 14, 43, 45, 24, 30, 80, 56, 16, 85, 46, 54, 69, 58, 83, 7, 45, 17, 66, 99, 75, 28, 24, 4, 20, 51, 24, 96, 11, 91, 14, 96, 38, 64, 76, 22, 43, 91, 50, 49, 86, 26, 12, 2, 81, 35, 85, 64, 80, 1, 0, 26]\n"
     ]
    }
   ],
   "source": [
    "sample_list_2=[] #creamos una lista vacía\n",
    "\n",
    "for x in range(0,80): #creamos un bucle de 80 iteraciones\n",
    "    y=random.randrange(0,101) #generamos un valor integer aleatorio entre 0 y 100\n",
    "    sample_list_2.append(y) #añadimos el valor generado a la lista \n",
    "print (sample_list_2)"
   ]
  },
  {
   "cell_type": "markdown",
   "metadata": {},
   "source": [
    "#### Convierte `sample_list_2` en un conjunto llamado `set2`. Imprime la longitud del conjunto. ¿Su longitud sigue siendo 80?"
   ]
  },
  {
   "cell_type": "code",
   "execution_count": 17,
   "metadata": {},
   "outputs": [
    {
     "name": "stdout",
     "output_type": "stream",
     "text": [
      "53 {2, 5, 6, 8, 10, 14, 15, 18, 21, 22, 23, 24, 25, 28, 30, 31, 32, 38, 40, 41, 43, 45, 47, 48, 56, 58, 59, 60, 61, 63, 64, 65, 66, 67, 68, 69, 72, 75, 79, 81, 83, 84, 86, 88, 90, 92, 93, 94, 96, 97, 98, 99, 100}\n"
     ]
    }
   ],
   "source": [
    "sample_list_2=[] #creamos una lista vacía\n",
    "\n",
    "for x in range(0,80): #creamos un bucle de 80 iteraciones\n",
    "    y=random.randrange(0,101) #generamos un valor integer aleatorio entre 0 y 100\n",
    "    sample_list_2.append(y) #añadimos el valor generado a la lista \n",
    "\n",
    "set2 = set(sample_list_2)\n",
    "\n",
    "print (len(set2), set2)\n",
    "\n",
    "#no, porque en los sets no se pueden almacenar duplicados."
   ]
  },
  {
   "cell_type": "markdown",
   "metadata": {},
   "source": [
    "#### Identifica los elementos presentes en `set1` pero no en `set2`. Asigna los elementos a un nuevo conjunto llamado `set3`."
   ]
  },
  {
   "cell_type": "code",
   "execution_count": 18,
   "metadata": {},
   "outputs": [
    {
     "name": "stdout",
     "output_type": "stream",
     "text": [
      " set1: {0, 1, 2, 3, 4, 5, 6, 7, 8, 9, 10, 11, 12, 14, 15, 16, 17, 18, 19, 20, 21, 25, 27, 28, 30, 31, 32, 33, 34, 35, 36, 37, 38, 39, 41, 43, 44, 45, 46, 47, 49, 51, 52, 53, 54, 55, 56, 57, 60, 61, 63, 64, 65, 67, 68, 69, 70, 71, 72, 73, 74, 75, 76, 78, 79, 81, 84, 85, 86, 87, 89, 90, 91, 92, 94, 95, 96, 97, 98, 99}, \n",
      " set2: {1, 5, 6, 9, 10, 12, 14, 16, 20, 21, 23, 24, 25, 26, 28, 29, 32, 35, 36, 37, 42, 45, 47, 49, 50, 51, 52, 54, 55, 58, 59, 60, 62, 63, 65, 67, 70, 71, 74, 77, 79, 84, 86, 87, 90, 91, 92, 93, 94, 96, 98, 99, 100},\n",
      " set3: {0, 2, 3, 4, 7, 8, 11, 15, 17, 18, 19, 27, 30, 31, 33, 34, 38, 39, 41, 43, 44, 46, 53, 56, 57, 61, 64, 68, 69, 72, 73, 75, 76, 78, 81, 85, 89, 95, 97} \n"
     ]
    }
   ],
   "source": [
    "sample_list_1=random.sample(range(100), k=80)\n",
    "sample_list_2=[] #creamos una lista vacía\n",
    "\n",
    "for x in range(0,80): #creamos un bucle de 80 iteraciones\n",
    "    y=random.randrange(0,101) #generamos un valor integer aleatorio entre 0 y 100\n",
    "    sample_list_2.append(y) #añadimos el valor generado a la lista \n",
    "\n",
    "set1 = set(sample_list_1)\n",
    "set2 = set(sample_list_2)\n",
    "set3 = set1.difference(set2)\n",
    "\n",
    "print (f\" set1: {set1}, \\n set2: {set2},\\n set3: {set3} \")\n",
    "\n"
   ]
  },
  {
   "cell_type": "markdown",
   "metadata": {},
   "source": [
    "#### Identifica los elementos presentes en `set2` pero no en `set1`. Asigna los elementos a un nuevo conjunto llamado `set4`."
   ]
  },
  {
   "cell_type": "code",
   "execution_count": 19,
   "metadata": {},
   "outputs": [
    {
     "name": "stdout",
     "output_type": "stream",
     "text": [
      " set1: {0, 1, 2, 4, 5, 6, 7, 8, 9, 10, 11, 12, 13, 14, 15, 16, 17, 18, 19, 21, 22, 23, 24, 25, 28, 29, 30, 32, 33, 34, 35, 36, 37, 38, 39, 41, 42, 43, 44, 45, 47, 50, 52, 54, 55, 56, 57, 58, 59, 61, 62, 63, 64, 65, 67, 68, 69, 70, 71, 74, 75, 76, 77, 78, 79, 81, 82, 83, 84, 86, 87, 89, 90, 91, 92, 94, 95, 96, 97, 99}, \n",
      " set2: {0, 1, 2, 4, 5, 8, 10, 14, 16, 19, 20, 21, 22, 25, 27, 29, 30, 31, 32, 33, 34, 36, 40, 42, 43, 45, 46, 49, 51, 52, 57, 58, 60, 61, 63, 64, 65, 66, 67, 68, 72, 82, 83, 84, 86, 88, 89, 90, 91, 93, 96, 100},\n",
      " set3: {6, 7, 9, 11, 12, 13, 15, 17, 18, 23, 24, 28, 35, 37, 38, 39, 41, 44, 47, 50, 54, 55, 56, 59, 62, 69, 70, 71, 74, 75, 76, 77, 78, 79, 81, 87, 92, 94, 95, 97, 99},\n",
      " set4: {66, 100, 40, 72, 46, 49, 51, 20, 88, 27, 60, 93, 31} \n"
     ]
    }
   ],
   "source": [
    "sample_list_1=random.sample(range(100), k=80)\n",
    "sample_list_2=[] #creamos una lista vacía\n",
    "\n",
    "for x in range(0,80): #creamos un bucle de 80 iteraciones\n",
    "    y=random.randrange(0,101) #generamos un valor integer aleatorio entre 0 y 100\n",
    "    sample_list_2.append(y) #añadimos el valor generado a la lista \n",
    "\n",
    "set1 = set(sample_list_1)\n",
    "set2 = set(sample_list_2)\n",
    "set3 = set1.difference(set2)\n",
    "set4 = set2.difference(set1)\n",
    "\n",
    "print (f\" set1: {set1}, \\n set2: {set2},\\n set3: {set3},\\n set4: {set4} \")"
   ]
  },
  {
   "cell_type": "markdown",
   "metadata": {},
   "source": [
    "#### Ahora identifica los elementos compartidos entre `set1` y `set2`. Asigna los elementos a un nuevo conjunto llamado `set5`."
   ]
  },
  {
   "cell_type": "code",
   "execution_count": 20,
   "metadata": {},
   "outputs": [
    {
     "name": "stdout",
     "output_type": "stream",
     "text": [
      " set1: {0, 1, 2, 4, 5, 6, 7, 8, 9, 10, 11, 12, 15, 16, 17, 19, 20, 22, 23, 24, 25, 27, 28, 29, 30, 31, 32, 33, 34, 35, 37, 38, 39, 40, 41, 42, 43, 44, 45, 46, 47, 49, 50, 51, 53, 54, 55, 58, 59, 62, 63, 64, 65, 66, 68, 69, 70, 72, 73, 74, 75, 76, 77, 78, 80, 81, 82, 84, 85, 86, 87, 88, 89, 90, 93, 94, 96, 97, 98, 99}, \n",
      " set2: {0, 3, 4, 5, 6, 8, 9, 11, 13, 14, 17, 19, 21, 23, 25, 26, 28, 32, 33, 34, 39, 40, 41, 42, 44, 45, 46, 49, 50, 52, 57, 58, 59, 60, 62, 63, 64, 65, 66, 68, 69, 71, 72, 74, 75, 76, 77, 78, 84, 85, 86, 91, 94, 97, 98, 99},\n",
      " set3: {1, 2, 7, 10, 12, 15, 16, 20, 22, 24, 27, 29, 30, 31, 35, 37, 38, 43, 47, 51, 53, 54, 55, 70, 73, 80, 81, 82, 87, 88, 89, 90, 93, 96},\n",
      " set4: {3, 71, 13, 14, 52, 21, 57, 26, 91, 60},\n",
      " set5: {0, 4, 5, 6, 8, 9, 11, 17, 19, 23, 25, 28, 32, 33, 34, 39, 40, 41, 42, 44, 45, 46, 49, 50, 58, 59, 62, 63, 64, 65, 66, 68, 69, 72, 74, 75, 76, 77, 78, 84, 85, 86, 94, 97, 98, 99} \n"
     ]
    }
   ],
   "source": [
    "sample_list_1=random.sample(range(100), k=80)\n",
    "sample_list_2=[] #creamos una lista vacía\n",
    "\n",
    "for x in range(0,80): #creamos un bucle de 80 iteraciones\n",
    "    y=random.randrange(0,101) #generamos un valor integer aleatorio entre 0 y 100\n",
    "    sample_list_2.append(y) #añadimos el valor generado a la lista \n",
    "\n",
    "set1 = set(sample_list_1)\n",
    "set2 = set(sample_list_2)\n",
    "set3 = set1.difference(set2)\n",
    "set4 = set2.difference(set1)\n",
    "set5 = set1.intersection(set2)\n",
    "\n",
    "print (f\" set1: {set1}, \\n set2: {set2},\\n set3: {set3},\\n set4: {set4},\\n set5: {set5} \")"
   ]
  },
  {
   "cell_type": "markdown",
   "metadata": {},
   "source": [
    "#### ¿Cuál es la relación entre los siguientes valores?\n",
    "\n",
    "* len(set1)\n",
    "* len(set2)\n",
    "* len(set3)\n",
    "* len(set4)\n",
    "* len(set5)\n",
    "\n",
    "Usa una fórmula matemática para representar esa relación. Prueba tu fórmula con código Python."
   ]
  },
  {
   "cell_type": "code",
   "execution_count": 21,
   "metadata": {},
   "outputs": [
    {
     "name": "stdout",
     "output_type": "stream",
     "text": [
      " set1: 80, \n",
      " set2: 54,\n",
      " set3: 38,\n",
      " set4: 12,\n",
      " set5: 42, \n",
      " validacion: True  \n"
     ]
    }
   ],
   "source": [
    "sample_list_1=random.sample(range(100), k=80)\n",
    "sample_list_2=[] #creamos una lista vacía\n",
    "\n",
    "for x in range(0,80): #creamos un bucle de 80 iteraciones\n",
    "    y=random.randrange(0,101) #generamos un valor integer aleatorio entre 0 y 100\n",
    "    sample_list_2.append(y) #añadimos el valor generado a la lista \n",
    "\n",
    "set1 = set(sample_list_1)\n",
    "set2 = set(sample_list_2)\n",
    "set3 = set1.difference(set2)\n",
    "set4 = set2.difference(set1)\n",
    "set5 = set1.intersection(set2)\n",
    "\n",
    "validation = len(set1)==len(set5)+len(set3) and len(set2)==len(set5)+len(set4) \n",
    "\n",
    "#la longitud del set1, es igual a la suma de la interseccion con el set 2 + la diferencia con el set 2. \n",
    "#la longitud del set2, es igual a la suma de la interseccion con el set 1 + la diferencia con el set 1. \n",
    "\n",
    "print (f\" set1: {len(set1)}, \\n set2: {len(set2)},\\n set3: {len(set3)},\\n set4: {len(set4)},\\n set5: {len(set5)}, \\n validacion: {validation}  \")\n",
    "\n"
   ]
  },
  {
   "cell_type": "markdown",
   "metadata": {},
   "source": [
    "#### Crea un conjunto vacío llamado `set6`."
   ]
  },
  {
   "cell_type": "code",
   "execution_count": 22,
   "metadata": {},
   "outputs": [],
   "source": [
    "set6 = set()"
   ]
  },
  {
   "cell_type": "markdown",
   "metadata": {},
   "source": [
    "#### Añade `set3` y `set5` a `set6` usando el método `update` de los Conjuntos de Python."
   ]
  },
  {
   "cell_type": "code",
   "execution_count": 23,
   "metadata": {},
   "outputs": [
    {
     "name": "stdout",
     "output_type": "stream",
     "text": [
      "{1, 2, 3, 4, 5, 6, 8, 9, 10, 11, 12, 13, 14, 16, 17, 18, 20, 23, 24, 25, 26, 27, 28, 29, 30, 32, 33, 35, 37, 38, 39, 41, 42, 43, 44, 45, 46, 48, 49, 50, 51, 53, 54, 56, 57, 58, 59, 61, 63, 64, 65, 66, 67, 69, 70, 71, 72, 73, 74, 75, 76, 77, 78, 82, 83, 84, 86, 87, 88, 89, 90, 91, 92, 93, 94, 95, 96, 97, 98, 99}\n"
     ]
    }
   ],
   "source": [
    "\n",
    "set6 = set()\n",
    "set6.update(set3, set5)\n",
    "\n",
    "print (set6)"
   ]
  },
  {
   "cell_type": "markdown",
   "metadata": {},
   "source": [
    "#### Verifica si `set1` y `set6` son iguales."
   ]
  },
  {
   "cell_type": "code",
   "execution_count": 24,
   "metadata": {},
   "outputs": [
    {
     "name": "stdout",
     "output_type": "stream",
     "text": [
      "True\n"
     ]
    }
   ],
   "source": [
    "validation2 = set1 == set6\n",
    "\n",
    "print (validation)"
   ]
  },
  {
   "cell_type": "markdown",
   "metadata": {},
   "source": [
    "#### Comprueba si `set1` contiene a `set2` utilizando el método `issubset` de los Conjuntos de Python. Luego verifica si `set1` contiene a `set3`."
   ]
  },
  {
   "cell_type": "code",
   "execution_count": 25,
   "metadata": {},
   "outputs": [
    {
     "name": "stdout",
     "output_type": "stream",
     "text": [
      "False True\n"
     ]
    }
   ],
   "source": [
    "validacionC = set2.issubset(set1)\n",
    "validacionD = set3.issubset(set1)\n",
    "print(validacionC, validacionD)"
   ]
  },
  {
   "cell_type": "markdown",
   "metadata": {},
   "source": [
    "#### Utilizando el método `union` de los Conjuntos de Python, agrega `set3`, `set4` y `set5`. Luego agrega `set1` y `set2`.\n",
    "\n",
    "#### Verifica si los valores agregados son iguales."
   ]
  },
  {
   "cell_type": "code",
   "execution_count": 26,
   "metadata": {},
   "outputs": [
    {
     "name": "stdout",
     "output_type": "stream",
     "text": [
      "True\n"
     ]
    }
   ],
   "source": [
    "setA=set3.union(set4, set5)\n",
    "setB=set1.union(set2)\n",
    "\n",
    "validacionE = setA == setB\n",
    "\n",
    "print(validacionE)"
   ]
  },
  {
   "cell_type": "markdown",
   "metadata": {},
   "source": [
    "#### Utilizando el método `pop`, elimina el primer elemento de `set1`."
   ]
  },
  {
   "cell_type": "code",
   "execution_count": 27,
   "metadata": {},
   "outputs": [
    {
     "name": "stdout",
     "output_type": "stream",
     "text": [
      "1\n"
     ]
    }
   ],
   "source": [
    "#el método pop elimina un elemento al azar, porque los sets NO estan ordenados. \n",
    "\n",
    "pop=set1.pop()\n",
    "\n",
    "print(pop)"
   ]
  },
  {
   "cell_type": "markdown",
   "metadata": {},
   "source": [
    "#### Elimina cada elemento en la siguiente lista de `set1` si están presentes en el conjunto. Imprime los elementos restantes.\n",
    "\n",
    "```\n",
    "list_to_remove = [1, 9, 11, 19, 21, 29, 31, 39, 41, 49, 51, 59, 61, 69, 71, 79, 81, 89, 91, 99]\n",
    "```"
   ]
  },
  {
   "cell_type": "code",
   "execution_count": 28,
   "metadata": {},
   "outputs": [
    {
     "name": "stdout",
     "output_type": "stream",
     "text": [
      " SetRef: {1, 2, 3, 4, 5, 6, 7, 8, 10, 11, 12, 15, 16, 17, 19, 22, 23, 25, 26, 27, 29, 30, 31, 32, 33, 35, 38, 39, 40, 41, 42, 43, 45, 46, 47, 49, 50, 51, 52, 53, 54, 55, 57, 58, 59, 60, 61, 62, 63, 64, 65, 66, 67, 68, 69, 70, 71, 72, 73, 74, 75, 76, 78, 79, 80, 81, 82, 83, 84, 85, 87, 89, 90, 91, 92, 93, 95, 97, 98, 99} \n",
      " Removed: {1, 9, 11, 19, 21, 29, 31, 39, 41, 49, 51, 59, 61, 69, 71, 79, 81, 89, 91, 99} \n",
      " Set1: {2, 3, 4, 5, 6, 7, 8, 10, 12, 15, 16, 17, 22, 23, 25, 26, 27, 30, 32, 33, 35, 38, 40, 42, 43, 45, 46, 47, 50, 52, 53, 54, 55, 57, 58, 60, 62, 63, 64, 65, 66, 67, 68, 70, 72, 73, 74, 75, 76, 78, 80, 82, 83, 84, 85, 87, 90, 92, 93, 95, 97, 98}\n"
     ]
    }
   ],
   "source": [
    "sample_list_1=random.sample(range(100), k=80)\n",
    "list_to_remove = [1, 9, 11, 19, 21, 29, 31, 39, 41, 49, 51, 59, 61, 69, 71, 79, 81, 89, 91, 99]\n",
    "\n",
    "remove = set(list_to_remove)\n",
    "set1 = set(sample_list_1).difference(remove)\n",
    "setref = set(sample_list_1)\n",
    "print (f\" SetRef: {setref} \\n Removed: {remove} \\n Set1: {set1}\" )"
   ]
  },
  {
   "cell_type": "markdown",
   "metadata": {},
   "source": [
    "## BONUS - Desafío 3: Diccionarios\n",
    "\n",
    "En este desafío practicarás cómo manipular diccionarios en Python. Antes de empezar este desafío, te animamos a revisar los [Ejemplos y Métodos de Diccionarios en Python](https://www.w3schools.com/python/python_dictionaries.asp) de W3School.\n",
    "\n",
    "Lo primero que practicarás es cómo ordenar las claves en un diccionario. A diferencia del objeto de lista, el diccionario de Python no tiene un método *sort* incorporado. Necesitarás usar bucles FOR para ordenar los diccionarios ya sea por clave o por valor.\n",
    "\n",
    "El diccionario a continuación es un resumen de la frecuencia de palabras de la canción *Shape of You* de Ed Sheeran. Cada clave es una palabra en la letra y el valor es el número de veces que esa palabra aparece en la letra."
   ]
  },
  {
   "cell_type": "code",
   "execution_count": 29,
   "metadata": {},
   "outputs": [],
   "source": [
    "word_freq = {'love': 25, 'conversation': 1, 'every': 6, \"we're\": 1, 'plate': 1, 'sour': 1, 'jukebox': 1, 'now': 11, 'taxi': 1, 'fast': 1, 'bag': 1, 'man': 1, 'push': 3, 'baby': 14, 'going': 1, 'you': 16, \"don't\": 2, 'one': 1, 'mind': 2, 'backseat': 1, 'friends': 1, 'then': 3, 'know': 2, 'take': 1, 'play': 1, 'okay': 1, 'so': 2, 'begin': 1, 'start': 2, 'over': 1, 'body': 17, 'boy': 2, 'just': 1, 'we': 7, 'are': 1, 'girl': 2, 'tell': 1, 'singing': 2, 'drinking': 1, 'put': 3, 'our': 1, 'where': 1, \"i'll\": 1, 'all': 1, \"isn't\": 1, 'make': 1, 'lover': 1, 'get': 1, 'radio': 1, 'give': 1, \"i'm\": 23, 'like': 10, 'can': 1, 'doing': 2, 'with': 22, 'club': 1, 'come': 37, 'it': 1, 'somebody': 2, 'handmade': 2, 'out': 1, 'new': 6, 'room': 3, 'chance': 1, 'follow': 6, 'in': 27, 'may': 2, 'brand': 6, 'that': 2, 'magnet': 3, 'up': 3, 'first': 1, 'and': 23, 'pull': 3, 'of': 6, 'table': 1, 'much': 2, 'last': 3, 'i': 6, 'thrifty': 1, 'grab': 2, 'was': 2, 'driver': 1, 'slow': 1, 'dance': 1, 'the': 18, 'say': 2, 'trust': 1, 'family': 1, 'week': 1, 'date': 1, 'me': 10, 'do': 3, 'waist': 2, 'smell': 3, 'day': 6, 'although': 3, 'your': 21, 'leave': 1, 'want': 2, \"let's\": 2, 'lead': 6, 'at': 1, 'hand': 1, 'how': 1, 'talk': 4, 'not': 2, 'eat': 1, 'falling': 3, 'about': 1, 'story': 1, 'sweet': 1, 'best': 1, 'crazy': 2, 'let': 1, 'too': 5, 'van': 1, 'shots': 1, 'go': 2, 'to': 2, 'a': 8, 'my': 33, 'is': 5, 'place': 1, 'find': 1, 'shape': 6, 'on': 40, 'kiss': 1, 'were': 3, 'night': 3, 'heart': 3, 'for': 3, 'discovering': 6, 'something': 6, 'be': 16, 'bedsheets': 3, 'fill': 2, 'hours': 2, 'stop': 1, 'bar': 1}"
   ]
  },
  {
   "cell_type": "markdown",
   "metadata": {},
   "source": [
    "#### Ordena las claves de `word_freq` de forma ascendente.\n",
    "\n",
    "Por favor, crea un nuevo diccionario llamado `word_freq2` basado en `word_freq` con las claves ordenadas de forma ascendente.\n",
    "\n",
    "Hay varias formas de lograr ese objetivo, pero muchas de ellas van más allá de lo que hemos cubierto hasta ahora en el curso. Hay una forma que describiremos empleando lo que has aprendido. Por favor, siéntete libre de usar esta forma o cualquier otra que desees.\n",
    "\n",
    "1. Primero extrae las claves de `word_freq` y conviértelas en una lista llamada `keys`.\n",
    "\n",
    "1. Ordena la lista `keys`.\n",
    "\n",
    "1. Crea un diccionario vacío `word_freq2`.\n",
    "\n",
    "1. Usa un bucle FOR para iterar cada valor en `keys`. Para cada clave iterada, encuentra el valor correspondiente en `word_freq` e inserta el par clave-valor en `word_freq2`.\n",
    "\n",
    "📖 [Documentación para un bucle for](https://docs.python.org/3/reference/compound_stmts.html#for)\n",
    "\n",
    "Imprime `word_freq2` para examinar sus claves y valores. Tu salida debería ser:\n",
    "\n",
    "```python\n",
    "{'a': 8, 'about': 1, 'all': 1, 'although': 3, 'and': 23, 'are': 1, 'at': 1, 'baby': 14, 'backseat': 1, 'bag': 1, 'bar': 1, 'be': 16, 'bedsheets': 3, 'begin': 1, 'best': 1, 'body': 17, 'boy': 2, 'brand': 6, 'can': 1, 'chance': 1, 'club': 1, 'come': 37, 'conversation': 1, 'crazy': 2, 'dance': 1, 'date': 1, 'day': 6, 'discovering': 6, 'do': 3, 'doing': 2, \"don't\": 2, 'drinking': 1, 'driver': 1, 'eat': 1, 'every': 6, 'falling': 3, 'family': 1, 'fast': 1, 'fill': 2, 'find': 1, 'first': 1, 'follow': 6, 'for': 3, 'friends': 1, 'get': 1, 'girl': 2, 'give': 1, 'go': 2, 'going': 1, 'grab': 2, 'hand': 1, 'handmade': 2, 'heart': 3, 'hours': 2, 'how': 1, 'i': 6, \"i'll\": 1, \"i'm\": 23, 'in': 27, 'is': 5, \"isn't\": 1, 'it': 1, 'jukebox': 1, 'just': 1, 'kiss': 1, 'know': 2, 'last': 3, 'lead': 6, 'leave': 1, 'let': 1, \"let's\": 2, 'like': 10, 'love': 25, 'lover': 1, 'magnet': 3, 'make': 1, 'man': 1, 'may': 2, 'me': 10, 'mind': 2, 'much': 2, 'my': 33, 'new': 6, 'night': 3, 'not': 2, 'now': 11, 'of': 6, 'okay': 1, 'on': 40, 'one': 1, 'our': 1, 'out': 1, 'over': 1, 'place': 1, 'plate': 1, 'play': 1, 'pull': 3, 'push': 3, 'put': 3, 'radio': 1, 'room': 3, 'say': 2, 'shape': 6, 'shots': 1, 'singing': 2, 'slow': 1, 'smell': 3, 'so': 2, 'somebody': 2, 'something': 6, 'sour': 1, 'start': 2, 'stop': 1, 'story': 1, 'sweet': 1, 'table': 1, 'take': 1, 'talk': 4, 'taxi': 1, 'tell': 1, 'that': 2, 'the': 18, 'then': 3, 'thrifty': 1, 'to': 2, 'too': 5, 'trust': 1, 'up': 3, 'van': 1, 'waist': 2, 'want': 2, 'was': 2, 'we': 7, \"we're\": 1, 'week': 1, 'were': 3, 'where': 1, 'with': 22, 'you': 16, 'your': 21}\n",
    "```"
   ]
  },
  {
   "cell_type": "code",
   "execution_count": 30,
   "metadata": {},
   "outputs": [],
   "source": [
    "# Tu codigo aquí"
   ]
  },
  {
   "cell_type": "markdown",
   "metadata": {},
   "source": [
    "#### Ordena los valores de `word_freq` de forma ascendente.\n",
    "\n",
    "Ordenar los valores de un diccionario es más complicado que ordenar las claves porque los valores de un diccionario no son únicos. Por lo tanto, no puedes usar la misma forma en que ordenaste las claves del diccionario para ordenar los valores del diccionario.\n",
    "\n",
    "La forma de ordenar un diccionario por valor es utilizar las funciones `sorted` y `operator.itemgetter`. El siguiente fragmento de código se te proporciona para que lo pruebes. Te dará una lista de tuplas en la que cada tupla contiene la clave y el valor de un elemento del diccionario. Y la lista está ordenada basada en el valor del diccionario ( [referencia](http://thomas-cokelaer.info/blog/2017/12/how-to-sort-a-dictionary-by-values-in-python/)\n",
    ").\n",
    "\n",
    "```python\n",
    "import operator\n",
    "sorted_tups = sorted(word_freq.items(), key=operator.itemgetter(1))\n",
    "print(sorted_tups)\n",
    "```\n",
    "\n",
    "Por lo tanto, los pasos para ordenar `word_freq` por valor son:\n",
    "\n",
    "* Utilizando `sorted` y `operator.itemgetter`, obtén una lista de tuplas de los pares clave-valor del diccionario que está ordenada por el valor.\n",
    "\n",
    "* Crea un diccionario vacío llamado `word_freq2`.\n",
    "\n",
    "* Itera la lista de tuplas. Inserta cada par clave-valor en `word_freq2` como un objeto.\n",
    "\n",
    "Imprime `word_freq2` para confirmar que tu diccionario tiene sus valores ordenados. Tu salida debería ser:\n",
    "\n",
    "```python\n",
    "{'conversation': 1, \"we're\": 1, 'plate': 1, 'sour': 1, 'jukebox': 1, 'taxi': 1, 'fast': 1, 'bag': 1, 'man': 1, 'going': 1, 'one': 1, 'backseat': 1, 'friends': 1, 'take': 1, 'play': 1, 'okay': 1, 'begin': 1, 'over': 1, 'just': 1, 'are': 1, 'tell': 1, 'drinking': 1, 'our': 1, 'where': 1, \"i'll\": 1, 'all': 1, \"isn't\": 1, 'make': 1, 'lover': 1, 'get': 1, 'radio': 1, 'give': 1, 'can': 1, 'club': 1, 'it': 1, 'out': 1, 'chance': 1, 'first': 1, 'table': 1, 'thrifty': 1, 'driver': 1, 'slow': 1, 'dance': 1, 'trust': 1, 'family': 1, 'week': 1, 'date': 1, 'leave': 1, 'at': 1, 'hand': 1, 'how': 1, 'eat': 1, 'about': 1, 'story': 1, 'sweet': 1, 'best': 1, 'let': 1, 'van': 1, 'shots': 1, 'place': 1, 'find': 1, 'kiss': 1, 'stop': 1, 'bar': 1, \"don't\": 2, 'mind': 2, 'know': 2, 'so': 2, 'start': 2, 'boy': 2, 'girl': 2, 'singing': 2, 'doing': 2, 'somebody': 2, 'handmade': 2, 'may': 2, 'that': 2, 'much': 2, 'grab': 2, 'was': 2, 'say': 2, 'waist': 2, 'want': 2, \"let's\": 2, 'not': 2, 'crazy': 2, 'go': 2, 'to': 2, 'fill': 2, 'hours': 2, 'push': 3, 'then': 3, 'put': 3, 'room': 3, 'magnet': 3, 'up': 3, 'pull': 3, 'last': 3, 'do': 3, 'smell': 3, 'although': 3, 'falling': 3, 'were': 3, 'night': 3, 'heart': 3, 'for': 3, 'bedsheets': 3, 'talk': 4, 'too': 5, 'is': 5, 'every': 6, 'new': 6, 'follow': 6, 'brand': 6, 'of': 6, 'i': 6, 'day': 6, 'lead': 6, 'shape': 6, 'discovering': 6, 'something': 6, 'we': 7, 'a': 8, 'like': 10, 'me': 10, 'now': 11, 'baby': 14, 'you': 16, 'be': 16, 'body': 17, 'the': 18, 'your': 21, 'with': 22, \"i'm\": 23, 'and': 23, 'love': 25, 'in': 27, 'my': 33, 'come': 37, 'on': 40}\n",
    "```"
   ]
  },
  {
   "cell_type": "code",
   "execution_count": 31,
   "metadata": {},
   "outputs": [],
   "source": [
    "# Tu codigo aquí"
   ]
  }
 ],
 "metadata": {
  "kernelspec": {
   "display_name": "Python 3 (ipykernel)",
   "language": "python",
   "name": "python3"
  },
  "language_info": {
   "codemirror_mode": {
    "name": "ipython",
    "version": 3
   },
   "file_extension": ".py",
   "mimetype": "text/x-python",
   "name": "python",
   "nbconvert_exporter": "python",
   "pygments_lexer": "ipython3",
   "version": "3.12.4"
  },
  "vscode": {
   "interpreter": {
    "hash": "aee8b7b246df8f9039afb4144a1f6fd8d2ca17a180786b69acc140d282b71a49"
   }
  }
 },
 "nbformat": 4,
 "nbformat_minor": 2
}
